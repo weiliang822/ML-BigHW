{
 "cells": [
  {
   "cell_type": "code",
   "execution_count": null,
   "metadata": {},
   "outputs": [],
   "source": [
    "from PIL import Image\n",
    "import numpy as np\n",
    "from sklearn.decomposition import PCA\n",
    "import matplotlib.pyplot as plt\n",
    "import os\n",
    "from sklearn.metrics import adjusted_rand_score, normalized_mutual_info_score\n",
    "import warnings\n",
    "\n",
    "warnings.filterwarnings(\"ignore\")  # 消除警告\n",
    "\n",
    "X, Y = [], []\n",
    "for i in range(1, 6):\n",
    "    for f in os.listdir(f\"./orl_faces/s{i}\"):\n",
    "        image = Image.open(f\"./orl_faces/s{i}/{f}\")\n",
    "        image_array = np.array(image)\n",
    "        reshaped_image = image_array.flatten()\n",
    "        X.append(reshaped_image)\n",
    "        Y.append(i)\n",
    "\n",
    "X = np.array(X)\n",
    "Y = np.array(Y)\n",
    "# 初始化 PCA，选择主成分的数量\n",
    "# 例如，选择前 50 个主成分\n",
    "pca50 = PCA(n_components=50)\n",
    "pca3 = PCA(n_components=3)\n",
    "\n",
    "# # 应用 PCA\n",
    "X_50 = pca50.fit_transform(X)\n",
    "X_3 = pca3.fit_transform(X)"
   ]
  },
  {
   "cell_type": "code",
   "execution_count": null,
   "metadata": {},
   "outputs": [],
   "source": [
    "index = 0  # 可以改变这个索引来查看不同的图像\n",
    "\n",
    "# 重构图像\n",
    "reconstructed_image = pca50.inverse_transform(X_50[index]).reshape(\n",
    "    image_array.shape\n",
    ")\n",
    "\n",
    "# 显示原始图像和重构图像\n",
    "fig, axes = plt.subplots(1, 2, figsize=(8, 4))\n",
    "axes[0].imshow(X[index].reshape(image_array.shape), cmap=\"gray\")\n",
    "axes[0].set_title(\"Original Image\")\n",
    "axes[1].imshow(reconstructed_image, cmap=\"gray\")\n",
    "axes[1].set_title(\"Reconstructed Image\")\n",
    "plt.show()"
   ]
  },
  {
   "cell_type": "code",
   "execution_count": null,
   "metadata": {},
   "outputs": [],
   "source": [
    "def show_images(X, labels, title, image_shape):\n",
    "    unique_labels = set(labels)\n",
    "\n",
    "    for label in unique_labels:\n",
    "        # 找到属于当前类别的所有索引\n",
    "        indices = [i for i, l in enumerate(labels) if l == label]\n",
    "\n",
    "        n_images = len(indices)\n",
    "\n",
    "        # 创建子图，每个类别一行\n",
    "        fig, axes = plt.subplots(1, n_images, figsize=(15, 3))\n",
    "        fig.suptitle(f\"{title} - Cluster {label}\")\n",
    "\n",
    "        # 如果只有一个图像，则 axes 不是数组，需要处理这种情况\n",
    "        if n_images == 1:\n",
    "            axes = [axes]\n",
    "\n",
    "        # 在子图上显示图像\n",
    "        for ax, idx in zip(axes, indices[:n_images]):\n",
    "            ax.imshow(X[idx].reshape(image_shape), cmap=\"gray\")\n",
    "            ax.axis(\"off\")\n",
    "\n",
    "        # 隐藏剩余的空白子图\n",
    "        for ax in axes[n_images:]:\n",
    "            ax.axis(\"off\")\n",
    "\n",
    "\n",
    "def clusters_3d(X, labels, title):\n",
    "    fig = plt.figure()\n",
    "    ax = fig.add_subplot(111, projection=\"3d\")\n",
    "    ax.scatter(X[:, 0], X[:, 1], X[:, 2], c=labels, cmap=\"viridis\")\n",
    "    ax.set_title(title)\n",
    "\n",
    "\n",
    "# 计算聚类准确率\n",
    "def ari_nmi_acc(labels, name):\n",
    "    ari = adjusted_rand_score(Y, labels)\n",
    "    nmi = normalized_mutual_info_score(Y, labels)\n",
    "    print(f\"{name} Clustering - ARI: {ari}, NMI: {nmi}\")"
   ]
  },
  {
   "cell_type": "code",
   "execution_count": null,
   "metadata": {},
   "outputs": [],
   "source": [
    "def clustering(clustering_model, name):\n",
    "    clustering_model.fit(X)\n",
    "    labels = clustering_model.labels_\n",
    "    ari_nmi_acc(labels, name)\n",
    "    show_images(X, labels, name, image_array.shape)\n",
    "    clustering_model.fit(X_50)\n",
    "    labels = clustering_model.labels_\n",
    "    ari_nmi_acc(labels, name + \" PCA50\")\n",
    "    show_images(X, labels, name + \" PCA50\", image_array.shape)\n",
    "    clustering_model.fit(X_3)\n",
    "    labels = clustering_model.labels_\n",
    "    ari_nmi_acc(labels, name + \" PCA3\")\n",
    "    show_images(X, labels, name + \" PCA3\", image_array.shape)\n",
    "    clusters_3d(X_3, labels, name + \" PCA3\")"
   ]
  },
  {
   "cell_type": "code",
   "execution_count": null,
   "metadata": {},
   "outputs": [],
   "source": [
    "from sklearn.cluster import KMeans\n",
    "\n",
    "kmeans = KMeans(n_clusters=5)\n",
    "clustering(kmeans, \"KMeans Clustering\")"
   ]
  },
  {
   "cell_type": "code",
   "execution_count": null,
   "metadata": {},
   "outputs": [],
   "source": [
    "from handwriting import MyKMeans\n",
    "\n",
    "mykmeans = MyKMeans(n_clusters=5)\n",
    "clustering(mykmeans, \"MyKMeans Clustering\")"
   ]
  },
  {
   "cell_type": "code",
   "execution_count": null,
   "metadata": {},
   "outputs": [],
   "source": [
    "# 层次聚类\n",
    "from sklearn.cluster import AgglomerativeClustering\n",
    "\n",
    "hier = AgglomerativeClustering(n_clusters=5)\n",
    "clustering(hier, \"Agglomerative Clustering\")"
   ]
  },
  {
   "cell_type": "code",
   "execution_count": null,
   "metadata": {},
   "outputs": [],
   "source": [
    "from handwriting import MyAgglomerativeClustering\n",
    "\n",
    "myhier = MyAgglomerativeClustering(n_clusters=5)\n",
    "clustering(myhier, \"MyAgglomerative Clustering\")"
   ]
  },
  {
   "cell_type": "code",
   "execution_count": null,
   "metadata": {},
   "outputs": [],
   "source": [
    "# DBSCAN\n",
    "from sklearn.cluster import DBSCAN\n",
    "\n",
    "dbscan = DBSCAN(eps=0.01, min_samples=5)  # eps 和 min_samples 需要根据数据集调整\n",
    "clustering(dbscan, \"DBSCAN Clustering\")"
   ]
  },
  {
   "cell_type": "code",
   "execution_count": null,
   "metadata": {},
   "outputs": [],
   "source": [
    "from handwriting import MyDBSCAN\n",
    "\n",
    "mydbscan = MyDBSCAN(eps=0.0001, min_samples=5)  # eps 和 min_samples 需要根据数据集调整\n",
    "clustering(mydbscan, \"MyDBSCAN Clustering\")"
   ]
  },
  {
   "cell_type": "code",
   "execution_count": null,
   "metadata": {},
   "outputs": [],
   "source": [
    "# 均值漂移\n",
    "from sklearn.cluster import MeanShift\n",
    "\n",
    "mean_shift = MeanShift()\n",
    "clustering(mean_shift, \"MeanShift Clustering\")"
   ]
  },
  {
   "cell_type": "code",
   "execution_count": null,
   "metadata": {},
   "outputs": [],
   "source": [
    "# from handwriting import MyMeanShift\n",
    "\n",
    "# mymean_shift = MyMeanShift()\n",
    "# clustering(mymean_shift, \"MyMeanShift Clustering\")"
   ]
  },
  {
   "cell_type": "code",
   "execution_count": null,
   "metadata": {},
   "outputs": [],
   "source": [
    "# 光谱聚类\n",
    "from sklearn.cluster import SpectralClustering\n",
    "\n",
    "spectral = SpectralClustering(n_clusters=5)\n",
    "clustering(spectral, \"Spectral Clustering\")"
   ]
  },
  {
   "cell_type": "code",
   "execution_count": null,
   "metadata": {},
   "outputs": [],
   "source": [
    "# 高斯混合模型\n",
    "# from sklearn.mixture import GaussianMixture\n",
    "\n",
    "# gmm = GaussianMixture(n_components=3)\n",
    "# gmm.fit(X)\n",
    "# labels = gmm.predict(X)"
   ]
  },
  {
   "cell_type": "code",
   "execution_count": null,
   "metadata": {},
   "outputs": [],
   "source": [
    "# OPTICS\n",
    "from sklearn.cluster import OPTICS\n",
    "\n",
    "optics = OPTICS(min_samples=5, xi=0.05, min_cluster_size=0.15)\n",
    "clustering(optics, \"OPTICS Clustering\")"
   ]
  }
 ],
 "metadata": {
  "kernelspec": {
   "display_name": "base",
   "language": "python",
   "name": "python3"
  },
  "language_info": {
   "codemirror_mode": {
    "name": "ipython",
    "version": 3
   },
   "file_extension": ".py",
   "mimetype": "text/x-python",
   "name": "python",
   "nbconvert_exporter": "python",
   "pygments_lexer": "ipython3",
   "version": "3.11.5"
  },
  "orig_nbformat": 4
 },
 "nbformat": 4,
 "nbformat_minor": 2
}
